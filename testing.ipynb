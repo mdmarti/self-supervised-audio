{
 "cells": [
  {
   "cell_type": "markdown",
   "metadata": {},
   "source": [
    "## imports"
   ]
  },
  {
   "cell_type": "code",
   "execution_count": 1,
   "metadata": {},
   "outputs": [],
   "source": [
    "import architectures as ar\n",
    "import torch\n",
    "from torch import nn"
   ]
  },
  {
   "cell_type": "markdown",
   "metadata": {},
   "source": [
    "## model architecture tests"
   ]
  },
  {
   "cell_type": "code",
   "execution_count": 2,
   "metadata": {},
   "outputs": [],
   "source": [
    "args = []\n",
    "dilations = [2,4,8,8,4]\n",
    "strides=[5,4,3,2,2]\n",
    "kernels=[10,8,4,4,4]\n",
    "encode_dim=32\n"
   ]
  },
  {
   "cell_type": "code",
   "execution_count": 3,
   "metadata": {},
   "outputs": [],
   "source": [
    "vicreg = ar.VicRegWaves(args,dilations,strides,kernels,encode_dim,[32,64,128,64,32])"
   ]
  },
  {
   "cell_type": "code",
   "execution_count": 4,
   "metadata": {},
   "outputs": [
    {
     "name": "stdout",
     "output_type": "stream",
     "text": [
      "torch.Size([128, 1, 441])\n"
     ]
    }
   ],
   "source": [
    "bsz = 128\n",
    "a1 = [torch.normal(torch.sin(torch.linspace(0,2*torch.pi,441)),torch.tensor([1])) for _ in range(bsz)]\n",
    "a1 = torch.stack(a1,axis=0)[:,None,:]\n",
    "print(a1.shape)"
   ]
  },
  {
   "cell_type": "code",
   "execution_count": 5,
   "metadata": {},
   "outputs": [],
   "source": [
    "def ProjectorTest(sizes):\n",
    "\n",
    "    layers = []\n",
    "    for ii in range(len(sizes) - 2):\n",
    "\n",
    "        layers.append(nn.Linear(sizes[ii],sizes[ii+1]))\n",
    "        layers.append(nn.BatchNorm1d(sizes[ii+1]))\n",
    "        layers.append(nn.ReLU(True))\n",
    "    layers.append(nn.Linear(sizes[-2],sizes[-1],bias=False))\n",
    "    return nn.Sequential(*layers),layers"
   ]
  },
  {
   "cell_type": "code",
   "execution_count": 6,
   "metadata": {},
   "outputs": [],
   "source": [
    "senc = vicreg.encoder.strided_encoder\n",
    "denc = vicreg.encoder.dilated_encoder\n",
    "proj = vicreg.projector\n",
    "#sizes = vicreg.sizes\n",
    "projTest,layers = ProjectorTest([32,64,128,64,32])"
   ]
  },
  {
   "cell_type": "code",
   "execution_count": 11,
   "metadata": {},
   "outputs": [],
   "source": [
    "d1 = denc(a1)\n",
    "s1 = senc(a1)\n",
    "e1 = vicreg.encoder(a1)\n",
    "ps = [e1]\n",
    "for ii,layer in enumerate(layers):\n",
    "    try:\n",
    "        ps.append(layer(ps[ii]))\n",
    "    except:\n",
    "        print(f\"failed on layer {ii+1}: input shape {ps[ii].shape}\")\n",
    "        layer(ps[ii])\n",
    "\n",
    "loss = vicreg(a1[:64,:],a1[:64,:])"
   ]
  },
  {
   "cell_type": "code",
   "execution_count": 12,
   "metadata": {},
   "outputs": [
    {
     "name": "stdout",
     "output_type": "stream",
     "text": [
      "torch.Size([128, 16, 1]) torch.Size([128, 16, 1]) torch.Size([128, 32]) torch.Size([128, 32])\n"
     ]
    }
   ],
   "source": [
    "print(d1.shape,s1.shape,e1.shape,ps[-1].shape)"
   ]
  },
  {
   "cell_type": "markdown",
   "metadata": {},
   "source": [
    "## dataset tests"
   ]
  },
  {
   "cell_type": "code",
   "execution_count": 1,
   "metadata": {},
   "outputs": [],
   "source": [
    "import os\n",
    "import glob \n",
    "import data as dt\n",
    "import numpy as np\n",
    "\n",
    "path = '/home/miles/mooney_server/Miles/fromComputer/birds_jq/CAGbirds/org545/data'\n",
    "days = glob.glob(os.path.join(path,'[0-9]*'))\n",
    "audio = [glob.glob(os.path.join(d,'denoised','*.wav')) for d in days]\n",
    "rois = [glob.glob(os.path.join(d,'denoised_segments_syll','*.txt')) for d in days]\n",
    "audio = sum(audio,[])\n",
    "rois = sum(rois,[])"
   ]
  },
  {
   "cell_type": "code",
   "execution_count": 2,
   "metadata": {},
   "outputs": [
    {
     "name": "stderr",
     "output_type": "stream",
     "text": [
      "Pre-processing audio: 0it [00:00, ?it/s]\n"
     ]
    },
    {
     "name": "stdout",
     "output_type": "stream",
     "text": [
      "/home/miles/mooney_server/Miles/fromComputer/birds_jq/CAGbirds/org545/data/20220301/denoised_segments_syll/recording_20220301_131747nrd.txt\n",
      "max number of segments reached!\n",
      "Getting positive pair indices\n"
     ]
    },
    {
     "name": "stderr",
     "output_type": "stream",
     "text": [
      "being inefficient: 516it [00:19, 26.80it/s]\n"
     ]
    }
   ],
   "source": [
    "ds1 = dt.waveformSet(audio,rois,maxSegs=50,seed=100)\n"
   ]
  },
  {
   "cell_type": "code",
   "execution_count": 8,
   "metadata": {},
   "outputs": [
    {
     "name": "stdout",
     "output_type": "stream",
     "text": [
      "(69,) (69,)\n"
     ]
    }
   ],
   "source": [
    "r = rois[0]\n",
    "x,y = np.loadtxt(r,delimiter=' ',unpack=True)\n",
    "print(x.shape,y.shape)"
   ]
  }
 ],
 "metadata": {
  "kernelspec": {
   "display_name": "ResearchEnv",
   "language": "python",
   "name": "python3"
  },
  "language_info": {
   "codemirror_mode": {
    "name": "ipython",
    "version": 3
   },
   "file_extension": ".py",
   "mimetype": "text/x-python",
   "name": "python",
   "nbconvert_exporter": "python",
   "pygments_lexer": "ipython3",
   "version": "3.10.12"
  }
 },
 "nbformat": 4,
 "nbformat_minor": 2
}
